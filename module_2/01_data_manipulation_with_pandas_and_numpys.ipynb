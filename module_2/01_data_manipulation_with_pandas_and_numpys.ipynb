{
 "cells": [
  {
   "cell_type": "markdown",
   "id": "e1261283",
   "metadata": {},
   "source": [
    "## Data Manipulation with Pandas and NumPy\n",
    "Data manipulation is the process of changing, organizing, or transforming data to make it more useful, readable, or suitable for analysis. It involves tasks like cleaning, filtering, sorting, grouping, or calculating new values from existing data.\n",
    "\n",
    "Tools like Pandas and NumPy, popular Python libraries, are often used to streamline these tasks. Pandas excels at handling structured data, like tables of crypto trades, for filtering or grouping, while NumPy supports fast numerical computations, such as calculating average prices or returns.\n",
    "\n",
    "For instance, a crypto investor might manipulate data by filtering trades to show only Bitcoin transactions over $5,000, sorting them by timestamp to track price movements, and aggregating daily totals to assess trading volume. This helps uncover trends, optimize strategies, and ensure data accuracy, ultimately supporting better decisions in the fast-paced crypto market.\n",
    "\n"
   ]
  },
  {
   "cell_type": "markdown",
   "id": "215bae75",
   "metadata": {},
   "source": [
    "## Pandas\n",
    "Pandas is a popular Python library used for working with data. It helps you load, clean, analyze, and manipulate data easily. Think of it like an Excel spreadsheet in Python! It’s great for handling tables of data.\n",
    "\n",
    "## Key Concepts\n",
    "Series: A single column of data (like a list with labels).\n",
    "\n",
    "Index: Labels for rows, helping you identify and access data.\n",
    "\n",
    "You can load data from files (CSV, Excel, etc.), manipulate it, and save it back."
   ]
  },
  {
   "cell_type": "markdown",
   "metadata": {},
   "source": [
    "## Installing/Importing Pandas\n",
    "\n"
   ]
  },
  {
   "cell_type": "code",
   "execution_count": 7,
   "metadata": {},
   "outputs": [],
   "source": [
    "import pandas as pd"
   ]
  },
  {
   "cell_type": "markdown",
   "metadata": {},
   "source": [
    "## Create a DataFrame\n",
    "A DataFrame is like a table with rows and columns. Let’s create one with sample cryptocurrency data (e.g., coin names, prices, and trade volumes)."
   ]
  },
  {
   "cell_type": "code",
   "execution_count": null,
   "metadata": {},
   "outputs": [
    {
     "name": "stdout",
     "output_type": "stream",
     "text": [
      "       Coin     Price  Volume\n",
      "0   Bitcoin  45000.00   15000\n",
      "1  Ethereum   3000.00    8000\n",
      "2    Ripple      0.85  200000\n",
      "3  Litecoin    120.00   50000\n"
     ]
    }
   ],
   "source": [
    "\n",
    "\n",
    "data = {\n",
    "    'Coin': ['Bitcoin', 'Ethereum', 'Ripple', 'Litecoin'],\n",
    "    'Price': [45000, 3000, 0.85, 120],\n",
    "    'Volume': [15000, 8000, 200000, 50000]\n",
    "}\n",
    "\n",
    "df = pd.DataFrame(data) # \n",
    "print(df)"
   ]
  },
  {
   "cell_type": "markdown",
   "metadata": {},
   "source": [
    "## Explore Data\n"
   ]
  },
  {
   "cell_type": "code",
   "execution_count": 14,
   "metadata": {},
   "outputs": [
    {
     "name": "stdout",
     "output_type": "stream",
     "text": [
      "       Coin    Price  Volume\n",
      "0   Bitcoin  45000.0   15000\n",
      "1  Ethereum   3000.0    8000\n"
     ]
    }
   ],
   "source": [
    "# get the first 2 rows\n",
    "\n",
    "print(df.head(2))\n",
    "\n"
   ]
  },
  {
   "cell_type": "code",
   "execution_count": 15,
   "metadata": {},
   "outputs": [
    {
     "name": "stdout",
     "output_type": "stream",
     "text": [
      "       Coin   Price  Volume\n",
      "2    Ripple    0.85  200000\n",
      "3  Litecoin  120.00   50000\n"
     ]
    }
   ],
   "source": [
    "# get the last 2 rows\n",
    "\n",
    "print(df.tail(2))\n",
    "\n"
   ]
  },
  {
   "cell_type": "code",
   "execution_count": null,
   "metadata": {},
   "outputs": [
    {
     "name": "stdout",
     "output_type": "stream",
     "text": [
      "<class 'pandas.core.frame.DataFrame'>\n",
      "RangeIndex: 4 entries, 0 to 3\n",
      "Data columns (total 3 columns):\n",
      " #   Column  Non-Null Count  Dtype  \n",
      "---  ------  --------------  -----  \n",
      " 0   Coin    4 non-null      object \n",
      " 1   Price   4 non-null      float64\n",
      " 2   Volume  4 non-null      int64  \n",
      "dtypes: float64(1), int64(1), object(1)\n",
      "memory usage: 228.0+ bytes\n",
      "None\n"
     ]
    }
   ],
   "source": [
    "# get info about a table\n",
    "\n",
    "print(df.info())"
   ]
  },
  {
   "cell_type": "markdown",
   "metadata": {},
   "source": [
    "### Basic Data manipulation\n",
    "\n"
   ]
  },
  {
   "cell_type": "code",
   "execution_count": 20,
   "metadata": {},
   "outputs": [
    {
     "name": "stdout",
     "output_type": "stream",
     "text": [
      "       Coin     Price\n",
      "0   Bitcoin  45000.00\n",
      "1  Ethereum   3000.00\n",
      "2    Ripple      0.85\n",
      "3  Litecoin    120.00\n"
     ]
    }
   ],
   "source": [
    "# select a specific column, or more than on e colun\n",
    "\n",
    "print(df[['Coin', 'Price']]) # square brackets are used []"
   ]
  },
  {
   "cell_type": "code",
   "execution_count": 25,
   "metadata": {},
   "outputs": [
    {
     "name": "stdout",
     "output_type": "stream",
     "text": [
      "0     Bitcoin\n",
      "1    Ethereum\n",
      "2      Ripple\n",
      "3    Litecoin\n",
      "Name: Coin, dtype: object\n"
     ]
    }
   ],
   "source": [
    "print(df['Coin']) "
   ]
  },
  {
   "cell_type": "markdown",
   "metadata": {},
   "source": [
    "### Filtering Rows\n",
    "\n"
   ]
  },
  {
   "cell_type": "code",
   "execution_count": 30,
   "metadata": {},
   "outputs": [
    {
     "name": "stdout",
     "output_type": "stream",
     "text": [
      "       Coin    Price  Volume\n",
      "0   Bitcoin  45000.0   15000\n",
      "1  Ethereum   3000.0    8000\n",
      "3  Litecoin    120.0   50000\n"
     ]
    }
   ],
   "source": [
    "# get all rows where price > 100\n",
    "\n",
    "print(df[df['Price'] > 100])\n"
   ]
  },
  {
   "cell_type": "markdown",
   "metadata": {},
   "source": [
    "## Sort data\n",
    "\n",
    "You can sort by column in ascending or descending order."
   ]
  },
  {
   "cell_type": "code",
   "execution_count": 34,
   "metadata": {},
   "outputs": [
    {
     "name": "stdout",
     "output_type": "stream",
     "text": [
      "       Coin     Price  Volume\n",
      "2    Ripple      0.85  200000\n",
      "3  Litecoin    120.00   50000\n",
      "1  Ethereum   3000.00    8000\n",
      "0   Bitcoin  45000.00   15000\n"
     ]
    }
   ],
   "source": [
    "# sort price in ascending order\n",
    "\n",
    "print(df.sort_values('Price')) # automatically sorts in ascending order"
   ]
  },
  {
   "cell_type": "code",
   "execution_count": 38,
   "metadata": {},
   "outputs": [
    {
     "name": "stdout",
     "output_type": "stream",
     "text": [
      "       Coin     Price  Volume\n",
      "0   Bitcoin  45000.00   15000\n",
      "1  Ethereum   3000.00    8000\n",
      "3  Litecoin    120.00   50000\n",
      "2    Ripple      0.85  200000\n"
     ]
    }
   ],
   "source": [
    "# sort price in descending order\n",
    "\n",
    "print(df.sort_values('Price', ascending=False))"
   ]
  },
  {
   "cell_type": "markdown",
   "metadata": {},
   "source": [
    "### Add New Column\n"
   ]
  },
  {
   "cell_type": "code",
   "execution_count": 39,
   "metadata": {},
   "outputs": [
    {
     "name": "stdout",
     "output_type": "stream",
     "text": [
      "       Coin     Price  Volume  price_after_2pct\n",
      "0   Bitcoin  45000.00   15000         45900.000\n",
      "1  Ethereum   3000.00    8000          3060.000\n",
      "2    Ripple      0.85  200000             0.867\n",
      "3  Litecoin    120.00   50000           122.400\n"
     ]
    }
   ],
   "source": [
    "# suppose there's a 2% increase in price, create a new column\n",
    "\n",
    "df['price_after_2pct'] = df['Price'] * 1.02\n",
    "print(df)"
   ]
  },
  {
   "cell_type": "code",
   "execution_count": null,
   "metadata": {},
   "outputs": [
    {
     "name": "stdout",
     "output_type": "stream",
     "text": [
      "       Coin     Price  Volume  price_after_2pct\n",
      "0   Bitcoin  45000.00   15000         45900.000\n",
      "1  Ethereum   3000.00    8000          3060.000\n",
      "2    Ripple      0.85  200000             0.867\n",
      "3  Litecoin    120.00   50000           122.400\n"
     ]
    }
   ],
   "source": [
    "# suppose there's a 2% increase in price, create a new column\n",
    "\n",
    "df['price_after_2pct'] = (df['Price'] * 0.02) + df['Price'] # another method\n",
    "print(df)"
   ]
  },
  {
   "cell_type": "code",
   "execution_count": 43,
   "metadata": {},
   "outputs": [
    {
     "data": {
      "text/html": [
       "<div>\n",
       "<style scoped>\n",
       "    .dataframe tbody tr th:only-of-type {\n",
       "        vertical-align: middle;\n",
       "    }\n",
       "\n",
       "    .dataframe tbody tr th {\n",
       "        vertical-align: top;\n",
       "    }\n",
       "\n",
       "    .dataframe thead th {\n",
       "        text-align: right;\n",
       "    }\n",
       "</style>\n",
       "<table border=\"1\" class=\"dataframe\">\n",
       "  <thead>\n",
       "    <tr style=\"text-align: right;\">\n",
       "      <th></th>\n",
       "      <th>Price</th>\n",
       "      <th>Volume</th>\n",
       "      <th>price_after_2pct</th>\n",
       "    </tr>\n",
       "  </thead>\n",
       "  <tbody>\n",
       "    <tr>\n",
       "      <th>count</th>\n",
       "      <td>4.000000</td>\n",
       "      <td>4.000000</td>\n",
       "      <td>4.000000</td>\n",
       "    </tr>\n",
       "    <tr>\n",
       "      <th>mean</th>\n",
       "      <td>12030.212500</td>\n",
       "      <td>68250.000000</td>\n",
       "      <td>12270.816750</td>\n",
       "    </tr>\n",
       "    <tr>\n",
       "      <th>std</th>\n",
       "      <td>22023.550649</td>\n",
       "      <td>89734.330108</td>\n",
       "      <td>22464.021662</td>\n",
       "    </tr>\n",
       "    <tr>\n",
       "      <th>min</th>\n",
       "      <td>0.850000</td>\n",
       "      <td>8000.000000</td>\n",
       "      <td>0.867000</td>\n",
       "    </tr>\n",
       "    <tr>\n",
       "      <th>25%</th>\n",
       "      <td>90.212500</td>\n",
       "      <td>13250.000000</td>\n",
       "      <td>92.016750</td>\n",
       "    </tr>\n",
       "    <tr>\n",
       "      <th>50%</th>\n",
       "      <td>1560.000000</td>\n",
       "      <td>32500.000000</td>\n",
       "      <td>1591.200000</td>\n",
       "    </tr>\n",
       "    <tr>\n",
       "      <th>75%</th>\n",
       "      <td>13500.000000</td>\n",
       "      <td>87500.000000</td>\n",
       "      <td>13770.000000</td>\n",
       "    </tr>\n",
       "    <tr>\n",
       "      <th>max</th>\n",
       "      <td>45000.000000</td>\n",
       "      <td>200000.000000</td>\n",
       "      <td>45900.000000</td>\n",
       "    </tr>\n",
       "  </tbody>\n",
       "</table>\n",
       "</div>"
      ],
      "text/plain": [
       "              Price         Volume  price_after_2pct\n",
       "count      4.000000       4.000000          4.000000\n",
       "mean   12030.212500   68250.000000      12270.816750\n",
       "std    22023.550649   89734.330108      22464.021662\n",
       "min        0.850000    8000.000000          0.867000\n",
       "25%       90.212500   13250.000000         92.016750\n",
       "50%     1560.000000   32500.000000       1591.200000\n",
       "75%    13500.000000   87500.000000      13770.000000\n",
       "max    45000.000000  200000.000000      45900.000000"
      ]
     },
     "execution_count": 43,
     "metadata": {},
     "output_type": "execute_result"
    }
   ],
   "source": [
    "df.describe() # usde to investigate"
   ]
  },
  {
   "cell_type": "code",
   "execution_count": 44,
   "metadata": {},
   "outputs": [],
   "source": [
    "# save and load data\n",
    "\n",
    "df.to_csv('crypto_data.csv', index=False)"
   ]
  },
  {
   "cell_type": "markdown",
   "metadata": {},
   "source": [
    "## Numpy\n",
    "\n",
    "NumPy is a powerful Python library for numerical computations, especially useful for working with arrays (lists of numbers) and performing fast mathematical operations. It’s a foundation for data manipulation, often used alongside Pandas, and is great for tasks like calculations, statistics, and handling crypto-related data. Below, I’ll walk you through the basics step by step—installing NumPy, creating arrays, and performing common operations with simple code. This is beginner-friendly and straightforward."
   ]
  },
  {
   "cell_type": "markdown",
   "metadata": {},
   "source": [
    "### Installing and Importing Numpy\n"
   ]
  },
  {
   "cell_type": "code",
   "execution_count": 45,
   "metadata": {},
   "outputs": [],
   "source": [
    "import numpy as np"
   ]
  },
  {
   "cell_type": "markdown",
   "metadata": {},
   "source": [
    "### Create a Numpy Array\n",
    "\n",
    "A NumPy array is like a list but optimized for math and faster operations. Let’s create arrays with sample cryptocurrency data (e.g., coin prices and trade volumes)."
   ]
  },
  {
   "cell_type": "code",
   "execution_count": 47,
   "metadata": {},
   "outputs": [
    {
     "name": "stdout",
     "output_type": "stream",
     "text": [
      "[45000 50000 40000 20000]\n"
     ]
    }
   ],
   "source": [
    "prices = np.array([45000, 50000, 40000, 20000])\n",
    "print(prices)"
   ]
  },
  {
   "cell_type": "code",
   "execution_count": 48,
   "metadata": {},
   "outputs": [
    {
     "name": "stdout",
     "output_type": "stream",
     "text": [
      "(4,)\n"
     ]
    }
   ],
   "source": [
    "# length of the array\n",
    "\n",
    "prices = np.array([45000, 50000, 40000, 20000])\n",
    "print(prices.shape)"
   ]
  },
  {
   "cell_type": "markdown",
   "metadata": {},
   "source": [
    "### Datatype check\n"
   ]
  },
  {
   "cell_type": "code",
   "execution_count": 49,
   "metadata": {},
   "outputs": [
    {
     "name": "stdout",
     "output_type": "stream",
     "text": [
      "int64\n"
     ]
    }
   ],
   "source": [
    "print(prices.dtype)"
   ]
  },
  {
   "cell_type": "markdown",
   "metadata": {},
   "source": [
    "### Basic Data Manipulation\n"
   ]
  },
  {
   "cell_type": "code",
   "execution_count": 51,
   "metadata": {},
   "outputs": [
    {
     "name": "stdout",
     "output_type": "stream",
     "text": [
      "[46000 51000 41000 21000]\n"
     ]
    }
   ],
   "source": [
    "# add 1000 to all prices\n",
    "\n",
    "prices = np.array([45000, 50000, 40000, 20000])\n",
    "prices_plus_1000 = prices + 1000\n",
    "print(prices_plus_1000)"
   ]
  },
  {
   "cell_type": "code",
   "execution_count": 52,
   "metadata": {},
   "outputs": [
    {
     "name": "stdout",
     "output_type": "stream",
     "text": [
      "[45001.02 50001.02 40001.02 20001.02]\n"
     ]
    }
   ],
   "source": [
    "prices = np.array([45000, 50000, 40000, 20000])\n",
    "price_increase = prices + 1.02\n",
    "\n",
    "print(price_increase)\n"
   ]
  },
  {
   "cell_type": "code",
   "execution_count": 53,
   "metadata": {},
   "outputs": [
    {
     "name": "stdout",
     "output_type": "stream",
     "text": [
      "[45000 50000 40000]\n"
     ]
    }
   ],
   "source": [
    "# filter data\n",
    "\n",
    "higher_price = prices[prices > 20000] \n",
    "print(higher_price)"
   ]
  },
  {
   "cell_type": "markdown",
   "metadata": {},
   "source": [
    "## Basic Statistical Functions"
   ]
  },
  {
   "cell_type": "code",
   "execution_count": 66,
   "metadata": {},
   "outputs": [
    {
     "name": "stdout",
     "output_type": "stream",
     "text": [
      "\n",
      "Statistics for volume: \n",
      "Mean (Average):  275000.0\n",
      "Maximum:  500000\n",
      "Minimum:  100000\n",
      "Sum:  1100000\n",
      "Volatility (Standard Deviation):  147901.9945774904\n"
     ]
    }
   ],
   "source": [
    "volume = np.array([500000, 300000, 200000, 100000])\n",
    "print(\"\\nStatistics for volume: \") # Creates a heading \"Statistics of volume, and gets to the next line\"\n",
    "\n",
    "print(\"Mean (Average): \", np.mean(volume)) # Average Volume\n",
    "print(\"Maximum: \", np.max(volume)) # Highest Volume\n",
    "print(\"Minimum: \", np.min(volume)) # Lowest Volume\n",
    "print(\"Sum: \", np.sum(volume)) # Total sum of  Volume\n",
    "print(\"Volatility (Standard Deviation): \", np.std(volume)) # standard dev of volume\n",
    "\n"
   ]
  },
  {
   "cell_type": "markdown",
   "metadata": {},
   "source": [
    "### Work with 2D Arrays\n",
    "\n",
    "NumPy can handle multi-dimensional arrays. Let’s combine our data into a 2D array (like a table)."
   ]
  },
  {
   "cell_type": "code",
   "execution_count": 67,
   "metadata": {},
   "outputs": [
    {
     "name": "stdout",
     "output_type": "stream",
     "text": [
      "[[45000  5000]\n",
      " [30000 28000]\n",
      " [11998  8943]]\n"
     ]
    }
   ],
   "source": [
    "crypto_data = np.array([\n",
    "    [45000, 5000],\n",
    "    [30000, 28000],\n",
    "    [11998, 8943]\n",
    "])\n",
    "\n",
    "print(crypto_data)"
   ]
  },
  {
   "cell_type": "code",
   "execution_count": 70,
   "metadata": {},
   "outputs": [
    {
     "data": {
      "text/plain": [
       "array([30000, 28000])"
      ]
     },
     "execution_count": 70,
     "metadata": {},
     "output_type": "execute_result"
    }
   ],
   "source": [
    "# access the 2nd row. remember it starts from 0,1,2 etc\n",
    "\n",
    "crypto_data[1]"
   ]
  },
  {
   "cell_type": "code",
   "execution_count": 72,
   "metadata": {},
   "outputs": [
    {
     "data": {
      "text/plain": [
       "array([45000, 30000, 11998])"
      ]
     },
     "execution_count": 72,
     "metadata": {},
     "output_type": "execute_result"
    }
   ],
   "source": [
    "# access the 1st column\n",
    "\n",
    "crypto_data[:,0]"
   ]
  },
  {
   "cell_type": "code",
   "execution_count": 75,
   "metadata": {},
   "outputs": [
    {
     "data": {
      "text/plain": [
       "array([ 5000, 28000,  8943])"
      ]
     },
     "execution_count": 75,
     "metadata": {},
     "output_type": "execute_result"
    }
   ],
   "source": [
    "# access the 2nd column\n",
    "\n",
    "crypto_data[:,1]"
   ]
  }
 ],
 "metadata": {
  "kernelspec": {
   "display_name": "python_tutorial (3.11.9)",
   "language": "python",
   "name": "python3"
  },
  "language_info": {
   "codemirror_mode": {
    "name": "ipython",
    "version": 3
   },
   "file_extension": ".py",
   "mimetype": "text/x-python",
   "name": "python",
   "nbconvert_exporter": "python",
   "pygments_lexer": "ipython3",
   "version": "3.11.9"
  }
 },
 "nbformat": 4,
 "nbformat_minor": 5
}
