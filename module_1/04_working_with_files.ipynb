{
 "cells": [
  {
   "cell_type": "markdown",
   "id": "a9b63116",
   "metadata": {},
   "source": [
    "## Working with Files (CSV , JSON)\n",
    "\n",
    "### Reading and Writing Text Files\n",
    "What it is: Storing and retrieving data from files on your computer.\n",
    "\n",
    "### Basic Operations:\n",
    "open(\"file.txt\") - Opens a file (needs to be closed after).\n",
    "\n",
    "with open(...) - Better way (auto-closes file).\n",
    "\n",
    "### Modes:\n",
    "\"r\" - Read (default)\n",
    "\n",
    "\"w\" - Write (erases existing content)\n",
    "\n",
    "\"a\" - Append (adds to end)\n",
    "\n",
    "\"r+\" - Read and write"
   ]
  },
  {
   "cell_type": "code",
   "execution_count": 3,
   "id": "a3f9cb92",
   "metadata": {},
   "outputs": [
    {
     "name": "stdout",
     "output_type": "stream",
     "text": [
      "just testing this shit out. Let's go!\n"
     ]
    }
   ],
   "source": [
    "# working with files in Python (Read mode)\n",
    "\n",
    "with open('sample2.txt', 'r') as file: # opens the file in read mode\n",
    "    content = file.read() # reads the entire content of the file\n",
    "    print(content)"
   ]
  },
  {
   "cell_type": "code",
   "execution_count": 5,
   "id": "3c02aa37",
   "metadata": {},
   "outputs": [],
   "source": [
    "# working with files in Python (Write mode)\n",
    "\n",
    "with open('sample2.txt', 'w') as file: # opens the file in write mode\n",
    "    file.write(\"Hello World!\\n\") # writes a line in the file\n",
    "    file.write(\"This is a text file\\n\")"
   ]
  },
  {
   "cell_type": "code",
   "execution_count": null,
   "id": "998399f2",
   "metadata": {},
   "outputs": [],
   "source": [
    "# working with files in Python (Append mode)\n",
    "\n",
    "with open('sample2.txt', 'a') as file: # opens the file in append mode\n",
    "    file.write(\"Appending a new line\\n\") # \\n means next line. Appends a new line in the file\n",
    "    file.write(\"This is a another appended line\\n\")"
   ]
  },
  {
   "cell_type": "code",
   "execution_count": null,
   "id": "83960038",
   "metadata": {},
   "outputs": [
    {
     "name": "stdout",
     "output_type": "stream",
     "text": [
      "Current content of the file\n",
      "Hello World!\n",
      "This is a text file\n",
      "Appending a new line\n",
      "This is a another appended line\n",
      "Adding more content. \n",
      "Adding more content. \n",
      "\n"
     ]
    }
   ],
   "source": [
    "# working with files in Python (Read and Write mode)\n",
    "\n",
    "with open('sample2.txt', 'r+') as file:\n",
    "    content = file.read()\n",
    "    print(\"Current content of the file\")\n",
    "    print(content)\n",
    "\n",
    "    file.write('Adding more content. \\n')\n"
   ]
  },
  {
   "cell_type": "markdown",
   "id": "ec49d031",
   "metadata": {},
   "source": [
    "## Working with CSV Files\n",
    "\n",
    "- CSV: Comma-Separated Values (like simple Excel files).\n",
    "- csv module:\n",
    "- csv.writer( ) - Writes data to CSV.\n",
    "- csv.reader( ) - Reads CSV rows as lists.\n",
    "- csv.DictReader( ) - Reads rows as dictionaries.\n"
   ]
  },
  {
   "cell_type": "code",
   "execution_count": 19,
   "id": "1dc9b130",
   "metadata": {},
   "outputs": [],
   "source": [
    "# working with csv files\n",
    "\n",
    "import csv\n",
    "\n",
    "# writing to csv\n",
    "with open('data.csv', 'w', newline='') as csvfile: # opens file in write mode\n",
    "    writer = csv.writer(csvfile)\n",
    "    writer.writerow(['name', 'age', 'city']) # write header row\n",
    "    writer.writerow(['Alice', 30, 'New York']) # writes data row\n",
    "    writer.writerow(['Bob', 25, 'Los Angeles']) # writes another data row"
   ]
  },
  {
   "cell_type": "code",
   "execution_count": 21,
   "id": "258141ac",
   "metadata": {},
   "outputs": [
    {
     "name": "stdout",
     "output_type": "stream",
     "text": [
      "['name', 'age', 'city']\n",
      "['Alice', '30', 'New York']\n",
      "['Bob', '25', 'Los Angeles']\n"
     ]
    }
   ],
   "source": [
    "# working with csv files\n",
    "\n",
    "import csv\n",
    "\n",
    "with open('data.csv', 'r') as csvfile: # opens file in read mode\n",
    "    reader = csv.reader(csvfile) # creates a csv reader object\n",
    "    for row in reader: # iterates through each row in the csv file\n",
    "        print(row)\n"
   ]
  },
  {
   "cell_type": "code",
   "execution_count": 23,
   "id": "d8f72ba7",
   "metadata": {},
   "outputs": [
    {
     "name": "stdout",
     "output_type": "stream",
     "text": [
      "{'name': 'Alice', 'age': '30', 'city': 'New York'}\n",
      "{'name': 'Bob', 'age': '25', 'city': 'Los Angeles'}\n"
     ]
    }
   ],
   "source": [
    "# working with csv files\n",
    "# Dictreader for reading csv files\n",
    "\n",
    "import csv\n",
    "\n",
    "with open('data.csv', 'r') as csvfile:\n",
    "    reader = csv.DictReader(csvfile)\n",
    "    for row in reader:\n",
    "        print(row)"
   ]
  },
  {
   "cell_type": "markdown",
   "id": "1a7a183a",
   "metadata": {},
   "source": [
    "## Handling JSON Data\n",
    "\n",
    "JSON: Format for storing and exchanging data (like Python dictionaries).\n",
    "\n",
    "json module:\n",
    "\n",
    "- json.dump( ) - Writes JSON to file.\n",
    "\n",
    "- json.load( ) - Reads JSON from file.\n",
    "\n",
    "- json.loads( ) - Reads JSON from string.\n",
    "\n",
    "- json.dumps( ) - Converts Python object to JSON string."
   ]
  },
  {
   "cell_type": "code",
   "execution_count": null,
   "id": "67eeeb36",
   "metadata": {},
   "outputs": [],
   "source": [
    "# workin with json files. json.dump()\n",
    "\n",
    "import json\n",
    "\n",
    "data = {\n",
    "    'name': 'Alice',\n",
    "    'Age': 30,\n",
    "    'City': 'New York'\n",
    "}\n",
    "\n",
    "with open('data.json', 'w') as jsonfile:\n",
    "    json.dump(data, jsonfile, indent=4) # writes json data to file with indentation\n",
    "\n",
    "    \n",
    "    "
   ]
  },
  {
   "cell_type": "code",
   "execution_count": null,
   "id": "582def8b",
   "metadata": {},
   "outputs": [
    {
     "name": "stdout",
     "output_type": "stream",
     "text": [
      "{'name': 'Alice', 'Age': 30, 'City': 'New York'}\n"
     ]
    }
   ],
   "source": [
    "# reading from json file. json.load()\n",
    "\n",
    "import json\n",
    "\n",
    "with open('data.json', 'r') as jsonfile:\n",
    "    data = json.load(jsonfile)\n",
    "    print(data)"
   ]
  },
  {
   "cell_type": "code",
   "execution_count": 26,
   "id": "848a64ed",
   "metadata": {},
   "outputs": [
    {
     "name": "stdout",
     "output_type": "stream",
     "text": [
      "{'name': 'Alice', 'Age': 30, 'City': 'New York'}\n"
     ]
    }
   ],
   "source": [
    "# reading from json file. json.loads()\n",
    "\n",
    "json_string = '{\"name\": \"Alice\", \"Age\": 30, \"City\": \"New York\"}'\n",
    "\n",
    "data = json.loads(json_string) # parse json string into Python dictionary\n",
    "print(data)"
   ]
  },
  {
   "cell_type": "code",
   "execution_count": null,
   "id": "8b8b9fef",
   "metadata": {},
   "outputs": [
    {
     "name": "stdout",
     "output_type": "stream",
     "text": [
      "{\n",
      "    \"name\": \"Alice\",\n",
      "    \"Age\": 30,\n",
      "    \"City\": \"New York\"\n",
      "}\n"
     ]
    }
   ],
   "source": [
    "# use dumps to convert a python dictionary to json string. json.dumps()\n",
    "\n",
    "data = {\n",
    "    'name': 'Alice',\n",
    "    'Age': 30,\n",
    "    'City': 'New York'\n",
    "}\n",
    "\n",
    "\n",
    "json_string = json.dumps(data, indent=4) # converts Python object to jsonm string\n",
    "print(json_string)"
   ]
  }
 ],
 "metadata": {
  "kernelspec": {
   "display_name": "python_tutorial (3.11.9)",
   "language": "python",
   "name": "python3"
  },
  "language_info": {
   "codemirror_mode": {
    "name": "ipython",
    "version": 3
   },
   "file_extension": ".py",
   "mimetype": "text/x-python",
   "name": "python",
   "nbconvert_exporter": "python",
   "pygments_lexer": "ipython3",
   "version": "3.11.9"
  }
 },
 "nbformat": 4,
 "nbformat_minor": 5
}
