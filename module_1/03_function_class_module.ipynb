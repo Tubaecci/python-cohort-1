{
 "cells": [
  {
   "cell_type": "markdown",
   "id": "f771a772",
   "metadata": {},
   "source": [
    "# Function, Classes & Modules\n"
   ]
  },
  {
   "cell_type": "markdown",
   "id": "7f913851",
   "metadata": {},
   "source": [
    "## 1. Functions In Python\n"
   ]
  },
  {
   "cell_type": "markdown",
   "id": "fc755473",
   "metadata": {},
   "source": [
    "### What is a function?\n",
    "\n",
    "A function is a reusable block of code that performs a specific task. Functions help reduce repetiton and improve code organisation.\n"
   ]
  },
  {
   "cell_type": "code",
   "execution_count": null,
   "id": "37dadb49",
   "metadata": {},
   "outputs": [],
   "source": [
    "# creating a function.\\\n",
    "# Any -> takes in any value in the parameter\n",
    "# str -> takes in string value\n",
    "\n",
    "def web3(crypto) -> str:\n",
    "    return result\n",
    "web3('BTC')"
   ]
  },
  {
   "cell_type": "code",
   "execution_count": 18,
   "id": "03928ca6",
   "metadata": {},
   "outputs": [
    {
     "name": "stdout",
     "output_type": "stream",
     "text": [
      "the sum is 8\n"
     ]
    }
   ],
   "source": [
    "# creating an add function\n",
    "def add():\n",
    "    sum=2+6\n",
    "    print('the sum is', sum)\n",
    "\n",
    "add()"
   ]
  },
  {
   "cell_type": "markdown",
   "id": "68eab8a4",
   "metadata": {},
   "source": [
    "### Function Arguments And Parameters\n",
    "\n",
    "### Types Of Arguments\n",
    "\n",
    "- Positional Arguments\n",
    "- Keyword Arguments\n",
    "\n",
    "Positional: matched by order\n",
    "\n",
    "keyword: matched by name (e.g: func(name = \"Alice\"))\n",
    "\n",
    "*args: accepts positional argument as a tuple.\n",
    "\n",
    "**kwargs: accepts extra keyword arguments as a dictionary.\n",
    "\n",
    "\n",
    "\n"
   ]
  },
  {
   "cell_type": "markdown",
   "id": "b32e1855",
   "metadata": {},
   "source": [
    "### Positional Arguments\n",
    "\n"
   ]
  },
  {
   "cell_type": "code",
   "execution_count": 31,
   "id": "5621ff46",
   "metadata": {},
   "outputs": [
    {
     "name": "stdout",
     "output_type": "stream",
     "text": [
      "6\n"
     ]
    }
   ],
   "source": [
    "def add_positional(a,b,c): # takes in any vlaue for the 3 parameters(a,b, and c)\n",
    "    hey = a+b+c\n",
    "    return hey\n",
    "result = add_positional(1,2,3)\n",
    "print(result)"
   ]
  },
  {
   "cell_type": "code",
   "execution_count": 32,
   "id": "0bcaf479",
   "metadata": {},
   "outputs": [
    {
     "name": "stdout",
     "output_type": "stream",
     "text": [
      "6\n"
     ]
    }
   ],
   "source": [
    "def add_positional(a,b,c) -> int: # takes in INT\n",
    "    hey = a+b+c\n",
    "    return hey\n",
    "result = add_positional(1,2,3)\n",
    "print(result)"
   ]
  },
  {
   "cell_type": "markdown",
   "id": "887c16c5",
   "metadata": {},
   "source": [
    "### keyword Arguments"
   ]
  },
  {
   "cell_type": "code",
   "execution_count": 35,
   "id": "55d9f2a2",
   "metadata": {},
   "outputs": [
    {
     "name": "stdout",
     "output_type": "stream",
     "text": [
      "Name Bob\n",
      "Age 25\n"
     ]
    }
   ],
   "source": [
    "def add_keyword(name = \"Alice\", age = 20):\n",
    "    print(\"Name\", name)\n",
    "    print(\"Age\", age)\n",
    "\n",
    "add_keyword(name = \"Bob\", age = 25)"
   ]
  },
  {
   "cell_type": "code",
   "execution_count": null,
   "id": "66ecba4f",
   "metadata": {},
   "outputs": [
    {
     "name": "stdout",
     "output_type": "stream",
     "text": [
      "Name Charles\n",
      "Age 40\n"
     ]
    }
   ],
   "source": [
    "def add_keyword(name = \"Alice\", age = 20):\n",
    "    print(\"Name\", name)\n",
    "    print(\"Age\", age)\n",
    "\n",
    "add_keyword(age = 40, name = \"Charles\")\n",
    "# Notice the results are still printed in the correct format"
   ]
  },
  {
   "cell_type": "markdown",
   "id": "af69d4b6",
   "metadata": {},
   "source": [
    "### *arg Arguments"
   ]
  },
  {
   "cell_type": "code",
   "execution_count": 41,
   "id": "89df3986",
   "metadata": {},
   "outputs": [],
   "source": [
    "# creating the function add_args()\n",
    "\n",
    "def add_args(*args):\n",
    "    print(type(args))\n",
    "    for num in args:\n",
    "        print(num, end = \" \")"
   ]
  },
  {
   "cell_type": "code",
   "execution_count": 42,
   "id": "632ad01a",
   "metadata": {},
   "outputs": [
    {
     "name": "stdout",
     "output_type": "stream",
     "text": [
      "<class 'tuple'>\n",
      "1 2 3 4 5 6 7 "
     ]
    }
   ],
   "source": [
    "# using the function add_args()\n",
    "add_args(1,2,3,4,5,6,7)\n",
    "\n",
    "# returns value and type(tuple)"
   ]
  },
  {
   "cell_type": "markdown",
   "id": "415e8885",
   "metadata": {},
   "source": [
    "### **kwargs Argument"
   ]
  },
  {
   "cell_type": "code",
   "execution_count": 45,
   "id": "a61d9bd6",
   "metadata": {},
   "outputs": [],
   "source": [
    "# creating the add_kwargs() function\n",
    "\n",
    "def add_kwargs(**kwargs):\n",
    "    print(type(kwargs))\n",
    "    for key, value in kwargs.items():\n",
    "        print(f\"{key}: {value} \")"
   ]
  },
  {
   "cell_type": "code",
   "execution_count": null,
   "id": "f25f4fa6",
   "metadata": {},
   "outputs": [
    {
     "name": "stdout",
     "output_type": "stream",
     "text": [
      "<class 'dict'>\n",
      "name: David \n",
      "age: 35 \n",
      "city: New York \n"
     ]
    }
   ],
   "source": [
    "# using the add_kwargs() function\n",
    "\n",
    "add_kwargs(name=\"David\", age=35, city=\"New York\")\n",
    "\n",
    "# returns items with dictionary type"
   ]
  },
  {
   "cell_type": "code",
   "execution_count": 52,
   "id": "bce61048",
   "metadata": {},
   "outputs": [],
   "source": [
    "# creating an average() function\n",
    "\n",
    "def average(number):\n",
    "    total = 0\n",
    "    for i in number:\n",
    "        total = total + i\n",
    "        avg = total / len(number)\n",
    "    return avg"
   ]
  },
  {
   "cell_type": "code",
   "execution_count": 55,
   "id": "8a367208",
   "metadata": {},
   "outputs": [
    {
     "name": "stdout",
     "output_type": "stream",
     "text": [
      "46.0\n"
     ]
    }
   ],
   "source": [
    "# using the average() function\n",
    "\n",
    "prices = [1, 33, 44, 55, 66, 77]\n",
    "\n",
    "avg = average(prices)\n",
    "print(avg)"
   ]
  },
  {
   "cell_type": "code",
   "execution_count": null,
   "id": "c99145d7",
   "metadata": {},
   "outputs": [],
   "source": [
    "# Get Crypto Price Change Percentage\n",
    "# creating a calculate_price_changes() function\n",
    "\n",
    "def calculate_price_changes(old_price, new_price):\n",
    "    change = ((new_price - old_price) / old_price) * 100\n",
    "    return change"
   ]
  },
  {
   "cell_type": "code",
   "execution_count": 64,
   "id": "dbd2957f",
   "metadata": {},
   "outputs": [
    {
     "name": "stdout",
     "output_type": "stream",
     "text": [
      "BTC Price Change: 20.0 %\n"
     ]
    }
   ],
   "source": [
    "# using the calculate_price_changes() function\n",
    "\n",
    "btc_change = calculate_price_changes(100000, 120000)\n",
    "print('BTC Price Change:', btc_change, '%')"
   ]
  },
  {
   "cell_type": "code",
   "execution_count": 66,
   "id": "46284157",
   "metadata": {},
   "outputs": [
    {
     "name": "stdout",
     "output_type": "stream",
     "text": [
      "BTC Price Change: 20.0%\n"
     ]
    }
   ],
   "source": [
    "# using the calculate_price_changes() function\n",
    "\n",
    "btc_change = calculate_price_changes(100000, 120000)\n",
    "print(f\"BTC Price Change: {btc_change}%\") # Another method of displaying results"
   ]
  },
  {
   "cell_type": "code",
   "execution_count": 68,
   "id": "9fd8ba18",
   "metadata": {},
   "outputs": [
    {
     "name": "stdout",
     "output_type": "stream",
     "text": [
      "Bitcoin is currently trading at $110000\n",
      "Ethereum is currently trading at $1800\n"
     ]
    }
   ],
   "source": [
    "# fromat crypto price\n",
    "\n",
    "def format_crypto_price(name, price, symbol = \"$\"):\n",
    "    return f\"{name} is currently trading at {symbol}{price}\"\n",
    "print(format_crypto_price(\"Bitcoin\", 110000))\n",
    "print(format_crypto_price(\"Ethereum\", 1800))"
   ]
  },
  {
   "cell_type": "code",
   "execution_count": 71,
   "id": "4adb3f7d",
   "metadata": {},
   "outputs": [
    {
     "name": "stdout",
     "output_type": "stream",
     "text": [
      "Bitcoin is currently trading at $110,000.00\n",
      "Ethereum is currently trading at $1,800.00\n"
     ]
    }
   ],
   "source": [
    "# fromat crypto price and round to 2 decimal places\n",
    "\n",
    "def format_crypto_price(name, price, symbol = \"$\"):\n",
    "    return f\"{name} is currently trading at {symbol}{price:,.2f}\" # :,.2f rounds ro 2 decimal places. \"2\" can be changed to preference\n",
    "print(format_crypto_price(\"Bitcoin\", 110000))\n",
    "print(format_crypto_price(\"Ethereum\", 1800))"
   ]
  },
  {
   "cell_type": "markdown",
   "id": "0bbb2e9c",
   "metadata": {},
   "source": [
    "# Classes In Python\n",
    "### What Are Classes?\n",
    "\n",
    "Classes are blueprints (templates) for creating objects. An object is an instance of a class that can hold data (attributes) and perform actions (methods). Classes are ideal for modeling real-world entities, like a cryptocurrency or a portfolio.\n",
    "\n",
    "### Defining a Class\n",
    "-- Use the class keyword to define a class.\n",
    "\n",
    "-- Classes typically include:\n",
    "- Attributes: Variables that store data.\n",
    "- Methods: Functions that define the behavior of the class.\n",
    "- Constructor (init): A special method to initialize objects."
   ]
  },
  {
   "cell_type": "markdown",
   "id": "aaebb961",
   "metadata": {},
   "source": [
    "## What is self in a Class?\n",
    "\n",
    "-- Definition: self is the first parameter in instance methods of a class. It represents the instance (object) on which the method is called. While self is not a reserved keyword in Python, it’s the standard convention for naming this parameter.\n",
    "\n",
    "-- Purpose: self allows methods to:\n",
    "- Access and modify the instance’s attributes.\n",
    "- Call other methods of the same instance.\n",
    "- Differentiate between instance-specific data and class-level data.\n",
    "\n",
    "-- When Used: self is used in instance methods (not static or class methods) and in the __init__ constructor to initialize instance attributes."
   ]
  },
  {
   "cell_type": "markdown",
   "id": "70a7569f",
   "metadata": {},
   "source": [
    "### Defining a Class\n"
   ]
  },
  {
   "cell_type": "code",
   "execution_count": null,
   "id": "ddb9a80c",
   "metadata": {},
   "outputs": [],
   "source": [
    "# creating a crypto wallet\n",
    "class cryptowallet:\n",
    "    # constructor\n",
    "    def __init__(self, owner): # self has to be put first to access attributes\n",
    "        self.owner = owner\n",
    "        self.balance = {}\n",
    "    # methods\n",
    "    def deposit(self, token, amount):\n",
    "        self.balance[token] = self.balance.get(token, 0) + amount\n",
    "\n",
    "    def withdraw(self, token, amount):\n",
    "        if self.balance.get(token, 0) >= amount:\n",
    "            self.balance[token] -= amount # equivalenrt to self.balance[token] =  self.balance[token]  - amount\n",
    "            return True\n",
    "        else:\n",
    "            return False\n",
    "    def view_balance(self):\n",
    "        return self.balance"
   ]
  },
  {
   "cell_type": "code",
   "execution_count": null,
   "id": "c3b901ce",
   "metadata": {},
   "outputs": [
    {
     "name": "stdout",
     "output_type": "stream",
     "text": [
      "{'BTC': 0.1, 'ETH': 0.7}\n"
     ]
    }
   ],
   "source": [
    "# creaing the cryptowallet object\n",
    "wallet = cryptowallet(\"Joseph\")\n",
    "wallet.deposit('BTC', 0.1)\n",
    "wallet.deposit('ETH', 0.7)\n",
    "\n",
    "print(wallet.view_balance())"
   ]
  },
  {
   "cell_type": "code",
   "execution_count": null,
   "id": "5c79698b",
   "metadata": {},
   "outputs": [
    {
     "name": "stdout",
     "output_type": "stream",
     "text": [
      "withdrawal success: False\n",
      "{'BTC': 0.1, 'ETH': 0.7}\n"
     ]
    }
   ],
   "source": [
    "success = wallet.withdraw('ETH', 1.0)\n",
    "print('withdrawal success:', success)\n",
    "print(wallet.view_balance()) # This will return false because our current ETH balance is 0.7. We can't withdraw more than our balance"
   ]
  },
  {
   "cell_type": "code",
   "execution_count": null,
   "id": "3d664dba",
   "metadata": {},
   "outputs": [
    {
     "name": "stdout",
     "output_type": "stream",
     "text": [
      "withdrawal success: True\n",
      "{'BTC': 0.1, 'ETH': 0.6}\n"
     ]
    }
   ],
   "source": [
    "success = wallet.withdraw('ETH', 0.1)\n",
    "print('withdrawal success:', success)\n",
    "print(wallet.view_balance()) # this will return true and deduct from ETH balance"
   ]
  },
  {
   "cell_type": "code",
   "execution_count": 114,
   "id": "0179e6fc",
   "metadata": {},
   "outputs": [],
   "source": [
    "class cryptocurrency: # creeating a cryptocurrency class\n",
    "    \"\"\" class to represent cryptocurrency\"\"\"\n",
    "    def __init__(self, name, symbol, price, quantity):\n",
    "        self.name = name # e.g: Bitcoin\n",
    "        self.symbol = symbol # e.g: BTC\n",
    "        self.price = price # current price in usd\n",
    "        self.quantity = quantity # amount held\n",
    "\n",
    "    def get_value(self): # calculate the total value of holdings\n",
    "        return self.price * self.quantity \n",
    "    \n",
    "    def update_price(self, new_price): # updates the cryptocurrency price\n",
    "        self.price = new_price\n",
    "\n",
    "class portfolio: # creating a portfolio class\n",
    "    \"\"\" class to manage a portfolio of cryptocurrencies\"\"\"\n",
    "    def __init__(self):\n",
    "        self.holdings = {} # dictionary to store cryptocurrencies\n",
    "    \n",
    "    \"\"\" adds a cryptocurrency to the portfolio\"\"\"\n",
    "    def add_crypto(self, crypto):\n",
    "        self.holdings[crypto.symbol] = crypto\n",
    "    \n",
    "    \"\"\" calculate the total value of the portfolio\"\"\"\n",
    "    def get_total_value(self):\n",
    "        total = sum(crypto.get_value() for crypto in self.holdings.values())\n",
    "        return total\n",
    "    \n",
    "    \"\"\" retrieve a cryptocurrency by its symbol\"\"\"\n",
    "    def get_holding(self, symbol):\n",
    "        return self.holdings.get(symbol, None)\n",
    "    \n",
    "    \"\"\" retrieve a cryptocurrency by its symbol\"\"\"\n",
    "\n",
    "    def withdraw_crypto(self, symbol, quantity):\n",
    "        crypto = self.get_holding(symbol)\n",
    "\n",
    "    # check if the cryptocurrency exists\n",
    "\n",
    "        if not crypto:\n",
    "            print(f\"Error: {symbol} not found in portfolio\")\n",
    "            return False\n",
    "\n",
    "        # validate quantity\n",
    "        if quantity <= 0:\n",
    "            print(f\"Error: Withdrawal quantity must be positive.\")\n",
    "            return False\n",
    "        if quantity > crypto.quantity:\n",
    "            print(f\"Error: insufficient {symbol} quantity. Available: {crypto.quantity}, Request: {quantity}\")\n",
    "        # update quantity\n",
    "        crypto.quantity -= quantity\n",
    "        print(f\"withdrew {quantity} {symbol}. Remaining: {crypto.quantity}\")\n",
    "\n",
    "        # remove cryptocurrency if quantity is 0\n",
    "        if crypto.quantity == 0:\n",
    "            del self.holdings[symbol]\n",
    "            print(f\"{symbol} holding removed from portfolio\")\n",
    "            \n",
    "        return True"
   ]
  },
  {
   "cell_type": "code",
   "execution_count": 115,
   "id": "eb665a7c",
   "metadata": {},
   "outputs": [
    {
     "name": "stdout",
     "output_type": "stream",
     "text": [
      "Portfolio Total Value: $117200.00\n"
     ]
    }
   ],
   "source": [
    "# create cryptocurrency object\n",
    "bitcoin = cryptocurrency('Bitcoin', 'BTC', 117000,1)\n",
    "ethhereum = cryptocurrency('Ethereum', 'ETH', 500, 0.4)\n",
    "\n",
    "# create portfolio object\n",
    "my_portfolio = portfolio()\n",
    "my_portfolio.add_crypto(bitcoin)\n",
    "my_portfolio.add_crypto(ethhereum)\n",
    "\n",
    "# calculate total portfolio value\n",
    "total_value = my_portfolio.get_total_value()\n",
    "print(f\"Portfolio Total Value: ${total_value:.2f}\") # :.2f rounds to 2 decimal places\n"
   ]
  },
  {
   "cell_type": "code",
   "execution_count": 116,
   "id": "715f0523",
   "metadata": {},
   "outputs": [
    {
     "name": "stdout",
     "output_type": "stream",
     "text": [
      "New Bitcoin price: $100000\n",
      "Updated portfolio value: $100200.00\n"
     ]
    }
   ],
   "source": [
    "# let's update price of BTC\n",
    "bitcoin.update_price(100000)\n",
    "print(f\"New Bitcoin price: ${bitcoin.price}\")\n",
    "print(f\"Updated portfolio value: ${my_portfolio.get_total_value():.2f}\")"
   ]
  },
  {
   "cell_type": "code",
   "execution_count": 117,
   "id": "9057a76b",
   "metadata": {},
   "outputs": [
    {
     "name": "stdout",
     "output_type": "stream",
     "text": [
      "New Bitcoin price: $ 100000\n",
      "Updated portfolio value: $ 100200.0\n"
     ]
    }
   ],
   "source": [
    "# let's update price of BTC\n",
    "bitcoin.update_price(100000)\n",
    "print(\"New Bitcoin price:\", \"$\", bitcoin.price)\n",
    "print(\"Updated portfolio value:\", \"$\", my_portfolio.get_total_value())"
   ]
  },
  {
   "cell_type": "code",
   "execution_count": 118,
   "id": "cf326a23",
   "metadata": {},
   "outputs": [
    {
     "name": "stdout",
     "output_type": "stream",
     "text": [
      "withdrew 0.08 ETH. Remaining: 0.32\n",
      "portfolio value after withdrawing 0.0.08 ETH: $100160.00 \n"
     ]
    }
   ],
   "source": [
    "my_portfolio.withdraw_crypto('ETH', 0.08)\n",
    "print(f\"portfolio value after withdrawing 0.0.08 ETH: ${my_portfolio.get_total_value():.2f} \")"
   ]
  },
  {
   "cell_type": "markdown",
   "id": "78a9f686",
   "metadata": {},
   "source": [
    "## Modules\n",
    "\n",
    "A Python module is a file containing Python code (e.g., functions, variables, classes) that can be imported and reused in other programs. It organizes related code into a single file, making it easy to manage and share.\n",
    "\n",
    "### Type Of Modules\n",
    "Standard Module/Library : Built in"
   ]
  },
  {
   "cell_type": "code",
   "execution_count": null,
   "id": "ca4a983c",
   "metadata": {},
   "outputs": [],
   "source": [
    "# standard module. These are in-built models\n",
    "\n",
    "import math\n",
    "import time\n",
    "import random\n",
    "import os\n",
    "import sys"
   ]
  },
  {
   "cell_type": "code",
   "execution_count": null,
   "id": "0693b493",
   "metadata": {},
   "outputs": [
    {
     "name": "stdout",
     "output_type": "stream",
     "text": [
      "The square root value is: 4.0\n"
     ]
    }
   ],
   "source": [
    "# using math module\n",
    "\n",
    "sqrt_value = math.sqrt(16)\n",
    "print('The square root value is:', sqrt_value)"
   ]
  },
  {
   "cell_type": "code",
   "execution_count": null,
   "id": "4747c3dc",
   "metadata": {},
   "outputs": [],
   "source": [
    "# using time module: Tells the code how long it should run\n",
    "\n",
    "time.sleep(5) # code ran for just 5 seconds"
   ]
  },
  {
   "cell_type": "code",
   "execution_count": 18,
   "id": "fc173d10",
   "metadata": {},
   "outputs": [
    {
     "data": {
      "text/plain": [
       "4"
      ]
     },
     "execution_count": 18,
     "metadata": {},
     "output_type": "execute_result"
    }
   ],
   "source": [
    "# using random module: Returns a random number between a range of values\n",
    "\n",
    "random_num = random.randint(1,10)\n",
    "random_num"
   ]
  },
  {
   "cell_type": "code",
   "execution_count": 19,
   "id": "03e81fd8",
   "metadata": {},
   "outputs": [
    {
     "data": {
      "text/plain": [
       "'3.11.9 (tags/v3.11.9:de54cf5, Apr  2 2024, 10:12:12) [MSC v.1938 64 bit (AMD64)]'"
      ]
     },
     "execution_count": 19,
     "metadata": {},
     "output_type": "execute_result"
    }
   ],
   "source": [
    "# using sys module: Returns the Python version you're currently using\n",
    "\n",
    "python_ver = sys.version\n",
    "python_ver"
   ]
  },
  {
   "cell_type": "markdown",
   "id": "67a8ed5e",
   "metadata": {},
   "source": [
    "### Third party Modules\n",
    "\n",
    "Examples:\n",
    "- pandas\n",
    "- web3\n",
    "- tweepy etc\n",
    "\n",
    "\n",
    "\n",
    "\n"
   ]
  },
  {
   "cell_type": "code",
   "execution_count": null,
   "id": "b635d1f9",
   "metadata": {},
   "outputs": [],
   "source": [
    "import pandas as pd\n",
    "import numpy as np\n",
    "import web3\n"
   ]
  },
  {
   "cell_type": "markdown",
   "id": "a809f55e",
   "metadata": {},
   "source": [
    "### Custom Modules\n",
    "\n",
    "These are modules we as analysts can create. It's helpful when youy'll need to repetitively use code.\n",
    "\n",
    "Save your script with .py extension .. e.g learn.py"
   ]
  }
 ],
 "metadata": {
  "kernelspec": {
   "display_name": "python_tutorial (3.11.9)",
   "language": "python",
   "name": "python3"
  },
  "language_info": {
   "codemirror_mode": {
    "name": "ipython",
    "version": 3
   },
   "file_extension": ".py",
   "mimetype": "text/x-python",
   "name": "python",
   "nbconvert_exporter": "python",
   "pygments_lexer": "ipython3",
   "version": "3.11.9"
  }
 },
 "nbformat": 4,
 "nbformat_minor": 5
}
