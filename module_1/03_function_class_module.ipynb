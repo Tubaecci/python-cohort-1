{
 "cells": [
  {
   "cell_type": "markdown",
   "id": "f771a772",
   "metadata": {},
   "source": [
    "# Function, Classes & Modules\n"
   ]
  },
  {
   "cell_type": "markdown",
   "id": "0bbb2e9c",
   "metadata": {},
   "source": [
    "# Class In Pyhton\n",
    "### What Are Classes?\n",
    "\n",
    "Classes are blueprints (templates) for creating objects. An object is an instance of a class that can hold data (attributes) and perform actions (methods). Classes are ideal for modeling real-world entities, like a cryptocurrency or a portfolio.\n",
    "\n",
    "### Defining a Class\n",
    "-- Use the class keyword to define a class.\n",
    "\n",
    "-- Classes typically include:\n",
    "- Attributes: Variables that store data.\n",
    "- Methods: Functions that define the behavior of the class.\n",
    "- Constructor (init): A special method to initialize objects."
   ]
  },
  {
   "cell_type": "markdown",
   "id": "aaebb961",
   "metadata": {},
   "source": [
    "## What is self in a Class?\n",
    "\n",
    "-- Definition: self is the first parameter in instance methods of a class. It represents the instance (object) on which the method is called. While self is not a reserved keyword in Python, it’s the standard convention for naming this parameter.\n",
    "\n",
    "-- Purpose: self allows methods to:\n",
    "- Access and modify the instance’s attributes.\n",
    "- Call other methods of the same instance.\n",
    "- Differentiate between instance-specific data and class-level data.\n",
    "\n",
    "-- When Used: self is used in instance methods (not static or class methods) and in the __init__ constructor to initialize instance attributes."
   ]
  }
 ],
 "metadata": {
  "language_info": {
   "name": "python"
  }
 },
 "nbformat": 4,
 "nbformat_minor": 5
}
