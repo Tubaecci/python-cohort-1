{
 "cells": [
  {
   "cell_type": "markdown",
   "id": "33766f58",
   "metadata": {},
   "source": [
    "### What is syntax?\n",
    "\n",
    "The set of rules that define how Python should be written.\n",
    "\n",
    "### Key rules to know\n",
    "\n",
    "Comments (#) –  Comments are like sticky notes in your code. They start with # and are ignored by Python, so they’re just for you or others to understand what the code does.<br>\n",
    "Example: # This calculates your age<br>\n",
    "Indentation (Spaces/Tabs) – Python uses them to group code (like paragraphs in a book).<br>\n",
    "Code Blocks – Sections of code that belong together (e.g., inside loops or functions).<br>\n",
    "Keywords – Special words Python reserves (e.g., if, for, while). Don’t use these as variable names!\n",
    "\n",
    "#### Input/Output\n",
    "\n",
    "print(\"Hello\") - Displays text on screen\n",
    "input(\"What's your name?\") - Asks the user to type something\n"
   ]
  },
  {
   "cell_type": "code",
   "execution_count": 4,
   "id": "9ccc8ea3",
   "metadata": {},
   "outputs": [
    {
     "name": "stdout",
     "output_type": "stream",
     "text": [
      "5\n"
     ]
    }
   ],
   "source": [
    "# This is a comment. It does not execute\n",
    "## This is a comment. It does not execute\n",
    "\n",
    "a = 2\n",
    "b = 3\n",
    "# adding a and b to get c\n",
    "c = a + b\n",
    "print(c)"
   ]
  },
  {
   "cell_type": "markdown",
   "id": "78054ab6",
   "metadata": {},
   "source": [
    "## Indentation"
   ]
  },
  {
   "cell_type": "code",
   "execution_count": 5,
   "id": "2c971471",
   "metadata": {},
   "outputs": [
    {
     "name": "stdout",
     "output_type": "stream",
     "text": [
      "This is a boy\n"
     ]
    }
   ],
   "source": [
    "btc = 100000\n",
    "if btc > 95000:\n",
    "    print(\"This is a boy\")"
   ]
  },
  {
   "cell_type": "markdown",
   "id": "40907b46",
   "metadata": {},
   "source": [
    "## Codeblock"
   ]
  },
  {
   "cell_type": "code",
   "execution_count": null,
   "id": "b7a81f87",
   "metadata": {},
   "outputs": [],
   "source": [
    "# codeblock is a group of lines that runs together\n",
    "\n",
    "for i in range[1, 4:]:\n",
    "    for i in range[1, 5]:\n",
    "        print(i)"
   ]
  },
  {
   "cell_type": "markdown",
   "id": "4bd311d2",
   "metadata": {},
   "source": [
    "## Python Reserve words"
   ]
  },
  {
   "cell_type": "code",
   "execution_count": null,
   "id": "67b8d41d",
   "metadata": {},
   "outputs": [],
   "source": [
    "# keywords\n",
    "# special reserve words for Python\n",
    "if\n",
    "else\n",
    "elif\n",
    "for\n",
    "in # etc . Don't use these as variable names"
   ]
  },
  {
   "cell_type": "markdown",
   "id": "677ae273",
   "metadata": {},
   "source": [
    "## Output"
   ]
  },
  {
   "cell_type": "code",
   "execution_count": 8,
   "id": "13f0c736",
   "metadata": {},
   "outputs": [
    {
     "name": "stdout",
     "output_type": "stream",
     "text": [
      "Hello world !\n"
     ]
    }
   ],
   "source": [
    "# output\n",
    "print(\"Hello world !\") # This returns the output"
   ]
  },
  {
   "cell_type": "markdown",
   "id": "80bf05c8",
   "metadata": {},
   "source": [
    "## f-string\n",
    "\n",
    "An f-string(short for formatted string literal) is a way to embed expressions inside string literals in Python. It was introduces in Python 3.6 and and makes string formatting more readable and concise.\n",
    "Syntax: You write an f-string by prefixing the string with the letter f or F and then including variable or expressions with curly brackets \"{}\"."
   ]
  },
  {
   "cell_type": "code",
   "execution_count": 11,
   "id": "3a3551a4",
   "metadata": {},
   "outputs": [
    {
     "name": "stdout",
     "output_type": "stream",
     "text": [
      "Hello Amaka!\n"
     ]
    }
   ],
   "source": [
    "name = 'Amaka'\n",
    "#print(name)\n",
    "print(f'Hello {name}!')"
   ]
  },
  {
   "cell_type": "code",
   "execution_count": 3,
   "id": "a565bd70",
   "metadata": {},
   "outputs": [
    {
     "name": "stdout",
     "output_type": "stream",
     "text": [
      "I want to invest $1,000 in sol!\n"
     ]
    }
   ],
   "source": [
    "crypto_assets = 'sol'\n",
    "print(f'I want to invest $1,000 in {crypto_assets}!')"
   ]
  },
  {
   "cell_type": "markdown",
   "id": "28df92f0",
   "metadata": {},
   "source": [
    "## Input\n",
    "\n",
    "Allows users to input any value of their choice, usually to a question."
   ]
  },
  {
   "cell_type": "code",
   "execution_count": null,
   "id": "d35686fd",
   "metadata": {},
   "outputs": [
    {
     "name": "stdout",
     "output_type": "stream",
     "text": [
      "Your favourite crypto asset is ethereum\n"
     ]
    }
   ],
   "source": [
    "crypto = input(\"Enter your favourite crypto asset\") # this gets the input of the user\n",
    "print(\"Your favourite crypto asset is \" + crypto) # gets feedback"
   ]
  },
  {
   "cell_type": "code",
   "execution_count": 15,
   "id": "29e77901",
   "metadata": {},
   "outputs": [
    {
     "name": "stdout",
     "output_type": "stream",
     "text": [
      "You are 20 years old\n"
     ]
    }
   ],
   "source": [
    "age = int(input(\"Enter your age\"))\n",
    "print(f'You are {age} years old')"
   ]
  },
  {
   "cell_type": "markdown",
   "id": "75c464a1",
   "metadata": {},
   "source": [
    "## Variables\n",
    "**What is a variable?**\n",
    "\n",
    "A named container that stores data like a labelled box.\n",
    "Example: Score = 100. Stores the number 100 in a variable named score.\n",
    "\n",
    "### Naming Rules:\n",
    "\n",
    "Start with a letter or underscore('_'), not a number.\n",
    "Can contain letters, numbers, or '_'(no space or symbols).\n",
    "Case-sensitive (\"Name\" is not eqaul to \"name\").\n",
    "Avoid Python keywords.\n",
    "\n",
    "### Assignment(=)\n",
    "\n",
    "fruit = 'apple' -> puts apple into the variable fruit\n",
    "Can update later. fruit = 'banana'\n",
    "\n",
    "### Variable\n",
    "\n"
   ]
  },
  {
   "cell_type": "code",
   "execution_count": null,
   "id": "2e413429",
   "metadata": {},
   "outputs": [],
   "source": [
    "# variables\n",
    "name = 'John' # This is a string variable\n",
    "age = 20 # This is an integer variable\n",
    "height = 5.7 # This is a float variable\n",
    "_is_valid = True # This is a Boolean variable .starts with an underscore"
   ]
  },
  {
   "cell_type": "markdown",
   "id": "9d8eae59",
   "metadata": {},
   "source": [
    "## Data Types\n",
    "### What is a data type?\n",
    "\n",
    "A Python data type specifies the category of data a variable can store, determining its behaviour and applied operations.\n",
    "\n",
    "### Common Types\n",
    "### Text Data Type\n",
    "\n",
    "- String"
   ]
  },
  {
   "cell_type": "code",
   "execution_count": null,
   "id": "b4468810",
   "metadata": {},
   "outputs": [],
   "source": [
    "place = 'Lagos'\n",
    "country = 'Nigeria'"
   ]
  },
  {
   "cell_type": "markdown",
   "id": "f3a4762b",
   "metadata": {},
   "source": [
    "### Numeric Data Type\n",
    "\n",
    "- Integer\n",
    "- Float"
   ]
  },
  {
   "cell_type": "code",
   "execution_count": null,
   "id": "23442c39",
   "metadata": {},
   "outputs": [],
   "source": [
    "numner = 10 # integer\n",
    "height = 17.5 # float variable"
   ]
  },
  {
   "cell_type": "markdown",
   "id": "ea0c5413",
   "metadata": {},
   "source": [
    "### Boolean Data Type"
   ]
  },
  {
   "cell_type": "code",
   "execution_count": null,
   "id": "bd509351",
   "metadata": {},
   "outputs": [],
   "source": [
    "is_valid = True # Boolean variable true\n",
    "invalid = False # Boolean variable false"
   ]
  },
  {
   "cell_type": "markdown",
   "id": "f4065dab",
   "metadata": {},
   "source": [
    "### Sequece Data Type"
   ]
  },
  {
   "cell_type": "code",
   "execution_count": 17,
   "id": "b547fd8f",
   "metadata": {},
   "outputs": [
    {
     "data": {
      "text/plain": [
       "['sol', 'btc', 'eth']"
      ]
     },
     "execution_count": 17,
     "metadata": {},
     "output_type": "execute_result"
    }
   ],
   "source": [
    "cryptos = ['sol', 'btc', 'eth']\n",
    "cryptos"
   ]
  },
  {
   "cell_type": "code",
   "execution_count": null,
   "id": "7d35d058",
   "metadata": {},
   "outputs": [],
   "source": [
    "# sequence types\n",
    "list_example = [1,2, 3, 4, 5] # a list is an ordered collection of items\n",
    "tuple_example = (1, 2, 3, 4) # a tuple is an orderes collection of items, but imutable\n",
    "dictionary_example = {\"key1\": \"value1\", \"key2\": \"value2\", \"key3\": \"value3\"} # a collection key-value pairs\n",
    "set_example = {1, 2, 3} # an unordered collection of unique items\n",
    " "
   ]
  },
  {
   "cell_type": "markdown",
   "id": "2edbf070",
   "metadata": {},
   "source": [
    "### None Data Type"
   ]
  },
  {
   "cell_type": "code",
   "execution_count": null,
   "id": "f8670158",
   "metadata": {},
   "outputs": [],
   "source": [
    "none_value = None # represnts the absence of data vale (NULL)"
   ]
  },
  {
   "cell_type": "markdown",
   "id": "b5d58f3e",
   "metadata": {},
   "source": [
    "### Checking Data Type"
   ]
  },
  {
   "cell_type": "code",
   "execution_count": null,
   "id": "b0cb952f",
   "metadata": {},
   "outputs": [
    {
     "name": "stdout",
     "output_type": "stream",
     "text": [
      "<class 'str'>\n"
     ]
    }
   ],
   "source": [
    "name = 'Tony'\n",
    "print(type(name)) # <class 'str'> This is a string\n",
    "\n",
    "names = ['Tony', 'Bob', 'Harry']\n",
    "print(type(names)) # <class 'list'> This is a list"
   ]
  },
  {
   "cell_type": "markdown",
   "id": "d98e0902",
   "metadata": {},
   "source": [
    "### Converting Data Type\n",
    "\n"
   ]
  },
  {
   "cell_type": "code",
   "execution_count": null,
   "id": "ad289eb9",
   "metadata": {},
   "outputs": [
    {
     "name": "stdout",
     "output_type": "stream",
     "text": [
      "30\n"
     ]
    }
   ],
   "source": [
    "age_str = '30'\n",
    "age = int(age_str) # converts string to int\n",
    "print(age)\n",
    "\n",
    "numner = 100\n",
    "num_str = str(number) # converts int to string\n",
    "print(num_str)"
   ]
  }
 ],
 "metadata": {
  "kernelspec": {
   "display_name": "python_tutorial",
   "language": "python",
   "name": "python3"
  },
  "language_info": {
   "codemirror_mode": {
    "name": "ipython",
    "version": 3
   },
   "file_extension": ".py",
   "mimetype": "text/x-python",
   "name": "python",
   "nbconvert_exporter": "python",
   "pygments_lexer": "ipython3",
   "version": "3.11.9"
  }
 },
 "nbformat": 4,
 "nbformat_minor": 5
}
