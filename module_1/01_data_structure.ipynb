{
 "cells": [
  {
   "cell_type": "markdown",
   "id": "9b4ac084",
   "metadata": {},
   "source": [
    "# Data Structure in Python?\n",
    "## What is a Data Structure in Python?\n",
    "\n",
    "A data structure is a way to organize, store, and access data efficiently so it can be used effectively. In Python, data structures are built-in types that allow you to group and manipulate data in different formats depending on your need.\n",
    "\n",
    "### Why Are Data Structures Important?\n",
    "\n",
    "✅ Helps you manage and and organize data better\n",
    "✅ Makes data retrieval, updating and manipulation easier\n",
    "✅ Essential for solving real-world problems efficiesntly\n",
    "✅ Common in blockchain analytics (e.g: wallet records, trandsaction logs)\n",
    "\n",
    "### Common Built-In Data Structures In Python?\n",
    "\n",
    "Data structures Description Example\n",
    "String: A seqaennce of characters \"Bitcoin\"\n",
    "List: Ordered mutable sequence [1,2,3]\n",
    "Tuple: Ordered immutable sequence (4,5,6)\n",
    "Set: unordered collection in unique items {1,2,3}\n",
    "Dictionary: Key-value pairs {\"name\": \"Alicia\", \"wallet\": \"0xabc\"}\n",
    "\n",
    "\n",
    "### Where do you see Data Structures In Blockchain?\n",
    "\n",
    "Blockchain element Python structure\n",
    "Wallet --> tokens ---- Dictionary or list\n",
    "Transaction log ---- list of dictionaries\n",
    "Token prices (ETH -> USDT) --- Dictionary\n",
    "Address metadata --- nested dictionary\n",
    "smart contract parameters --- Tuple or Dict\n",
    "\n"
   ]
  },
  {
   "cell_type": "markdown",
   "id": "114dbbd2",
   "metadata": {},
   "source": [
    "# 1. String\n",
    "\n",
    "A string is an ordered sequnece of characters enclosed in single, double, or triple quotes."
   ]
  },
  {
   "cell_type": "code",
   "execution_count": 5,
   "id": "4053ca7a",
   "metadata": {},
   "outputs": [],
   "source": [
    "name = \"blockchain\""
   ]
  },
  {
   "cell_type": "markdown",
   "id": "fc1fc9be",
   "metadata": {},
   "source": [
    "# Common Methods And Function In String\n",
    "\n",
    "Function: Takes in parameter(s) in brackets \"()\". E.g len(name), int(number), type(name). There has to be value in the bracket.\n",
    "Method: Doesn't take in paramereter in brackets \"()\" e.g .lower(), .upper(). "
   ]
  },
  {
   "cell_type": "code",
   "execution_count": 10,
   "id": "15f1d096",
   "metadata": {},
   "outputs": [
    {
     "data": {
      "text/plain": [
       "10"
      ]
     },
     "execution_count": 10,
     "metadata": {},
     "output_type": "execute_result"
    }
   ],
   "source": [
    "# len() --> length of string\n",
    "len(name)"
   ]
  },
  {
   "cell_type": "code",
   "execution_count": 12,
   "id": "422dc77a",
   "metadata": {},
   "outputs": [
    {
     "data": {
      "text/plain": [
       "'blockchain'"
      ]
     },
     "execution_count": 12,
     "metadata": {},
     "output_type": "execute_result"
    }
   ],
   "source": [
    "# .lower() --> lowercase, .upper() --> uppercase\n",
    "\n",
    "name.lower()"
   ]
  },
  {
   "cell_type": "code",
   "execution_count": null,
   "id": "6cf25941",
   "metadata": {},
   "outputs": [
    {
     "data": {
      "text/plain": [
       "'hellojo'"
      ]
     },
     "execution_count": 25,
     "metadata": {},
     "output_type": "execute_result"
    }
   ],
   "source": [
    "# .strip() --> removes leading and trailing spaces\n",
    "name = \"hellojo \"\n",
    "name.strip()"
   ]
  },
  {
   "cell_type": "code",
   "execution_count": 28,
   "id": "707783d6",
   "metadata": {},
   "outputs": [],
   "source": [
    "# .replace(old, new) --> replaces a substring\n",
    "x = \"Blockchain\"\n",
    "x = x.replace(\"Blockchain\", \"Crrypto\")"
   ]
  },
  {
   "cell_type": "code",
   "execution_count": null,
   "id": "a7e9548b",
   "metadata": {},
   "outputs": [
    {
     "name": "stdout",
     "output_type": "stream",
     "text": [
      "['Blockchain', ' Asset', ' Crypto']\n"
     ]
    }
   ],
   "source": [
    "# .split() --> split into list\n",
    "y = \"Blockchain, Asset, Crypto\"\n",
    "y = y.split(\",\") # list type\n",
    "print(y)"
   ]
  },
  {
   "cell_type": "code",
   "execution_count": 37,
   "id": "081408eb",
   "metadata": {},
   "outputs": [
    {
     "data": {
      "text/plain": [
       "True"
      ]
     },
     "execution_count": 37,
     "metadata": {},
     "output_type": "execute_result"
    }
   ],
   "source": [
    "# in --> check substring by returning TRUE or FALSE. similar to \"like\" in sql\n",
    "y = \"CryptoAsset\"\n",
    "\"Asset\" in y"
   ]
  },
  {
   "cell_type": "markdown",
   "id": "0ce5354f",
   "metadata": {},
   "source": [
    "# 2. List\n",
    "\n",
    "✅ A List is an ordered mutable, indexable collection of elements. It allows for duplicates\n",
    "\n",
    "## Common Methods In Lists\n"
   ]
  },
  {
   "cell_type": "code",
   "execution_count": 86,
   "id": "487df294",
   "metadata": {},
   "outputs": [
    {
     "data": {
      "text/plain": [
       "list"
      ]
     },
     "execution_count": 86,
     "metadata": {},
     "output_type": "execute_result"
    }
   ],
   "source": [
    "tokens = ['ETH','BTC', 'SOL', 'ADA'] # creating a list\n",
    "type(tokens)"
   ]
  },
  {
   "cell_type": "code",
   "execution_count": 87,
   "id": "1a13bc6d",
   "metadata": {},
   "outputs": [
    {
     "data": {
      "text/plain": [
       "4"
      ]
     },
     "execution_count": 87,
     "metadata": {},
     "output_type": "execute_result"
    }
   ],
   "source": [
    "tokens = ['ETH','BTC', 'SOL', 'ADA'] # creating a list\n",
    "len(tokens) # counting elements in the list"
   ]
  },
  {
   "cell_type": "code",
   "execution_count": 88,
   "id": "8a5c42a8",
   "metadata": {},
   "outputs": [
    {
     "data": {
      "text/plain": [
       "['ETH', 'BTC', 'SOL', 'ADA', 'PEPE']"
      ]
     },
     "execution_count": 88,
     "metadata": {},
     "output_type": "execute_result"
    }
   ],
   "source": [
    "# .append(x) --> add to the end of a list\n",
    "tokens.append('PEPE')\n",
    "tokens \n"
   ]
  },
  {
   "cell_type": "code",
   "execution_count": 89,
   "id": "bdf61e32",
   "metadata": {},
   "outputs": [
    {
     "data": {
      "text/plain": [
       "['ETH', 'BTC', 'DOT', 'SOL', 'ADA', 'PEPE']"
      ]
     },
     "execution_count": 89,
     "metadata": {},
     "output_type": "execute_result"
    }
   ],
   "source": [
    "# .insert(i, x) --> add to an index\n",
    "# in pyton lists(arrays) start from 0. So, 0, 1, 2, 3 etc\n",
    "tokens.insert(2, 'DOT')\n",
    "tokens\n"
   ]
  },
  {
   "cell_type": "code",
   "execution_count": 90,
   "id": "043201bb",
   "metadata": {},
   "outputs": [
    {
     "data": {
      "text/plain": [
       "['ETH', 'BTC', 'SOL', 'ADA', 'PEPE']"
      ]
     },
     "execution_count": 90,
     "metadata": {},
     "output_type": "execute_result"
    }
   ],
   "source": [
    "# .remove(x) --> removes the first match\n",
    "tokens.remove('DOT')\n",
    "tokens\n"
   ]
  },
  {
   "cell_type": "code",
   "execution_count": 91,
   "id": "4e494fcd",
   "metadata": {},
   "outputs": [
    {
     "data": {
      "text/plain": [
       "['ETH', 'BTC', 'SOL', 'ADA']"
      ]
     },
     "execution_count": 91,
     "metadata": {},
     "output_type": "execute_result"
    }
   ],
   "source": [
    "# .pop() --> removes and return based on index instead of match like .remove()\n",
    "tokens = ['ETH', 'BTC', 'SOL', 'ADA', 'PEPE']\n",
    "tokens.pop(4)\n",
    "tokens"
   ]
  },
  {
   "cell_type": "code",
   "execution_count": 93,
   "id": "53004a60",
   "metadata": {},
   "outputs": [
    {
     "data": {
      "text/plain": [
       "['ADA', 'BTC', 'ETH', 'PEPE', 'SOL']"
      ]
     },
     "execution_count": 93,
     "metadata": {},
     "output_type": "execute_result"
    }
   ],
   "source": [
    "# .sort() --> sorts list in ascending order\n",
    "tokens = ['ETH', 'BTC', 'SOL', 'ADA', 'PEPE']\n",
    "tokens.sort()\n",
    "tokens\n"
   ]
  },
  {
   "cell_type": "code",
   "execution_count": 95,
   "id": "30bbee59",
   "metadata": {},
   "outputs": [
    {
     "data": {
      "text/plain": [
       "['PEPE', 'ADA', 'SOL', 'BTC', 'ETH']"
      ]
     },
     "execution_count": 95,
     "metadata": {},
     "output_type": "execute_result"
    }
   ],
   "source": [
    "# .reverse() --> sorts list in descending order. From back to front. Not albabetically\n",
    "tokens = ['ETH', 'BTC', 'SOL', 'ADA', 'PEPE']\n",
    "tokens.reverse()\n",
    "tokens"
   ]
  },
  {
   "cell_type": "markdown",
   "id": "3f686906",
   "metadata": {},
   "source": [
    "## Indexing And Slicing\n"
   ]
  },
  {
   "cell_type": "code",
   "execution_count": null,
   "id": "7d358ba2",
   "metadata": {},
   "outputs": [
    {
     "data": {
      "text/plain": [
       "'SOL'"
      ]
     },
     "execution_count": 96,
     "metadata": {},
     "output_type": "execute_result"
    }
   ],
   "source": [
    "z = ['ETH', 'BTC', 'SOL', 'ADA', 'PEPE']\n",
    "z[2] # to extract SOl"
   ]
  },
  {
   "cell_type": "code",
   "execution_count": 99,
   "id": "a8a27ec7",
   "metadata": {},
   "outputs": [
    {
     "data": {
      "text/plain": [
       "['BTC', 'SOL', 'ADA']"
      ]
     },
     "execution_count": 99,
     "metadata": {},
     "output_type": "execute_result"
    }
   ],
   "source": [
    "z = ['ETH', 'BTC', 'SOL', 'ADA', 'PEPE']\n",
    "z[1:4] # to extract BTC, SOl and ADA"
   ]
  },
  {
   "cell_type": "code",
   "execution_count": 107,
   "metadata": {},
   "outputs": [
    {
     "data": {
      "text/plain": [
       "('BTC', 'PEPE')"
      ]
     },
     "execution_count": 107,
     "metadata": {},
     "output_type": "execute_result"
    }
   ],
   "source": [
    "z = ['ETH', 'BTC', 'SOL', 'ADA', 'PEPE']\n",
    "z[1], z[4] # to extract BTC and PEPE"
   ]
  },
  {
   "cell_type": "markdown",
   "id": "5de368ab",
   "metadata": {},
   "source": [
    "# 3. Dictionary\n",
    "✅ A dicitonary is an unordered, mutable collection of key-value pair\n"
   ]
  },
  {
   "cell_type": "code",
   "execution_count": null,
   "id": "5841d138",
   "metadata": {},
   "outputs": [
    {
     "data": {
      "text/plain": [
       "{'address': '0xabc', 'balance': 4.5, 'is_active': True}"
      ]
     },
     "execution_count": 111,
     "metadata": {},
     "output_type": "execute_result"
    }
   ],
   "source": [
    "# the key must be unique\n",
    "wallet = {\n",
    "    \"address\":\"0xabc\",\n",
    "    \"balance\": 4.5,\n",
    "    \"is_active\": True\n",
    "\n",
    "}\n",
    "wallet"
   ]
  },
  {
   "cell_type": "markdown",
   "id": "56f58210",
   "metadata": {},
   "source": [
    "## Common Methods in Dictionary\n"
   ]
  },
  {
   "cell_type": "code",
   "execution_count": 112,
   "id": "5bf6524a",
   "metadata": {},
   "outputs": [
    {
     "data": {
      "text/plain": [
       "4.5"
      ]
     },
     "execution_count": 112,
     "metadata": {},
     "output_type": "execute_result"
    }
   ],
   "source": [
    "# dict[key] --> gets value by key\n",
    "wallet[\"balance\"]"
   ]
  },
  {
   "cell_type": "code",
   "execution_count": 113,
   "id": "77e4d3ae",
   "metadata": {},
   "outputs": [
    {
     "data": {
      "text/plain": [
       "4.5"
      ]
     },
     "execution_count": 113,
     "metadata": {},
     "output_type": "execute_result"
    }
   ],
   "source": [
    "# .get(key) --> gets safe access\n",
    "wallet.get(\"balance\")"
   ]
  },
  {
   "cell_type": "code",
   "execution_count": null,
   "id": "f69b9e2e",
   "metadata": {},
   "outputs": [
    {
     "data": {
      "text/plain": [
       "dict_keys(['address', 'balance', 'is_active'])"
      ]
     },
     "execution_count": 115,
     "metadata": {},
     "output_type": "execute_result"
    }
   ],
   "source": [
    "# .keys () fetches all keys, not the values\n",
    "wallet.keys()"
   ]
  },
  {
   "cell_type": "code",
   "execution_count": 116,
   "id": "eca96d64",
   "metadata": {},
   "outputs": [
    {
     "data": {
      "text/plain": [
       "dict_values(['0xabc', 4.5, True])"
      ]
     },
     "execution_count": 116,
     "metadata": {},
     "output_type": "execute_result"
    }
   ],
   "source": [
    "# .values() fetches all values, not keys\n",
    "wallet.values()"
   ]
  },
  {
   "cell_type": "code",
   "execution_count": 117,
   "id": "cf45f8bd",
   "metadata": {},
   "outputs": [
    {
     "data": {
      "text/plain": [
       "dict_items([('address', '0xabc'), ('balance', 4.5), ('is_active', True)])"
      ]
     },
     "execution_count": 117,
     "metadata": {},
     "output_type": "execute_result"
    }
   ],
   "source": [
    "# .items() fetches both keys and values\n",
    "wallet.items()"
   ]
  },
  {
   "cell_type": "code",
   "execution_count": 120,
   "id": "c50659bb",
   "metadata": {},
   "outputs": [
    {
     "data": {
      "text/plain": [
       "{'address': '0xabc', 'balance': 4.5, 'is_active': False, 'balnce': 500}"
      ]
     },
     "execution_count": 120,
     "metadata": {},
     "output_type": "execute_result"
    }
   ],
   "source": [
    "# .update({})  -- updates values\n",
    "wallet = {\n",
    "    \"address\":\"0xabc\",\n",
    "    \"balance\": 4.5,\n",
    "    \"is_active\": True\n",
    "\n",
    "}\n",
    "wallet.update({\"balnce\":500, \"is_active\":False})\n",
    "wallet"
   ]
  },
  {
   "cell_type": "code",
   "execution_count": 124,
   "metadata": {},
   "outputs": [
    {
     "data": {
      "text/plain": [
       "{'address': '0xabc', 'balance': 4.5}"
      ]
     },
     "execution_count": 124,
     "metadata": {},
     "output_type": "execute_result"
    }
   ],
   "source": [
    "# .pop(key) --> remove by key\n",
    "wallet = {\n",
    "    \"address\":\"0xabc\",\n",
    "    \"balance\": 4.5,\n",
    "    \"is_active\": True\n",
    "\n",
    "}\n",
    "wallet.pop(\"is_active\")\n",
    "wallet"
   ]
  }
 ],
 "metadata": {
  "kernelspec": {
   "display_name": "python_tutorial",
   "language": "python",
   "name": "python3"
  },
  "language_info": {
   "codemirror_mode": {
    "name": "ipython",
    "version": 3
   },
   "file_extension": ".py",
   "mimetype": "text/x-python",
   "name": "python",
   "nbconvert_exporter": "python",
   "pygments_lexer": "ipython3",
   "version": "3.11.9"
  }
 },
 "nbformat": 4,
 "nbformat_minor": 5
}
